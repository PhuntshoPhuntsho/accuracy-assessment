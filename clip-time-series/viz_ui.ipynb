{
 "cells": [
  {
   "cell_type": "code",
   "execution_count": null,
   "metadata": {},
   "outputs": [],
   "source": [
    "from functools import partial\n",
    "import pandas as pd\n",
    "import os\n",
    "from pathlib import Path\n",
    "\n",
    "from sepal_ui import sepalwidgets as sw\n",
    "from sepal_ui import mapping as sm\n",
    "import ipyvuetify as v\n",
    "\n",
    "from utils import messages as ms\n",
    "from utils import parameters as pm\n",
    "from scripts import vizualisation as viz\n",
    "from scripts import table as table_run"
   ]
  },
  {
   "cell_type": "code",
   "execution_count": null,
   "metadata": {},
   "outputs": [],
   "source": [
    "#input and output as mutable objects \n",
    "class Viz_io:\n",
    "    def __init__(self):\n",
    "        #input\n",
    "        self.sources = None\n",
    "        self.bands = None\n",
    "\n",
    "viz_io = Viz_io()"
   ]
  },
  {
   "cell_type": "code",
   "execution_count": null,
   "metadata": {},
   "outputs": [],
   "source": [
    "#output \n",
    "viz_output = sw.Alert().add_msg(ms.VIZ_INTRO)\n",
    "\n",
    "#btn \n",
    "viz_btn = sw.Btn(ms.VIZ_BTN)\n",
    "\n",
    "#create the inputs \n",
    "viz_sources = v.Select(items=pm.sources, label=ms.VIZ_SOURCES, v_model=None, multiple=True)\n",
    "viz_bands = v.Select(items=[*pm.getAvailableBands()], label=ms.VIZ_BANDS, v_model=None)\n",
    "\n",
    "#bind the inputs\n",
    "viz_output.bind(viz_sources, viz_io, 'sources')\n",
    "viz_output.bind(viz_bands, viz_io, 'bands')\n",
    "\n",
    "#create a band selector \n",
    "id_ = 'viz_widget'\n",
    "title = 'select your vizualisation Parameters'\n",
    "\n",
    "viz_input = sw.Tile(\n",
    "    id_,\n",
    "    title,\n",
    "    btn=viz_btn,\n",
    "    inputs=[viz_sources, viz_bands],\n",
    "    output=viz_output\n",
    ")"
   ]
  },
  {
   "cell_type": "code",
   "execution_count": null,
   "metadata": {},
   "outputs": [],
   "source": [
    "#vizualise data \n",
    "#def process_start(widget, event, data, output, m, maps):\n",
    "def process_start(widget, event, data, output):\n",
    "    \n",
    "    #toggle the loading button\n",
    "    widget.toggle_loading()\n",
    "    \n",
    "    #load the input \n",
    "    file = getattr(tb_io, 'file')\n",
    "    pts = getattr(tb_io, 'pts')\n",
    "    bands = getattr(viz_io, 'bands')\n",
    "    sources = getattr(viz_io, 'sources')\n",
    "    \n",
    "    #check input\n",
    "    if not output.check_input(file, ms.NO_PTS): return widget.toggle_loading()\n",
    "    if not output.check_input(bands, ms.NO_BANDS): return widget.toggle_loading()\n",
    "    if not output.check_input(sources, ms.NO_SOURCES): return widget.toggle_loading()\n",
    "    \n",
    "    #security when user remove all satellites (sources = [])\n",
    "    if not len(sources) > 0: \n",
    "        output.add_msg(ms.NO_SOURCES, 'error')\n",
    "        return widget.toggle_loading()\n",
    "    \n",
    "    #generate a sum-up of the inputs\n",
    "    msg = viz.set_msg(pts, bands, ' & '.join(sources), Path(file).stem)\n",
    "    \n",
    "    output.add_msg(msg, 'warning')\n",
    "    \n",
    "    #toggle the loading button\n",
    "    widget.toggle_loading()\n",
    "    \n",
    "    return \n",
    "\n",
    "viz_btn.on_event('click', partial(\n",
    "    process_start,\n",
    "    output = viz_output\n",
    "))   "
   ]
  },
  {
   "cell_type": "code",
   "execution_count": null,
   "metadata": {},
   "outputs": [],
   "source": [
    "viz_input"
   ]
  }
 ],
 "metadata": {
  "kernelspec": {
   "display_name": "Python 3",
   "language": "python",
   "name": "python3"
  },
  "language_info": {
   "codemirror_mode": {
    "name": "ipython",
    "version": 3
   },
   "file_extension": ".py",
   "mimetype": "text/x-python",
   "name": "python",
   "nbconvert_exporter": "python",
   "pygments_lexer": "ipython3",
   "version": "3.6.9"
  }
 },
 "nbformat": 4,
 "nbformat_minor": 4
}
