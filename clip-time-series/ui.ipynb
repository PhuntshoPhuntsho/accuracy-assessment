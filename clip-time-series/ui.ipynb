{
 "cells": [
  {
   "cell_type": "code",
   "execution_count": null,
   "metadata": {},
   "outputs": [],
   "source": [
    "%%capture\n",
    "import sys\n",
    "!{sys.executable} -m pip install 'sepal-ui>=0.7.2-beta'\n",
    "!{sys.executable} -m pip install 'Wand'\n",
    "!{sys.executable} -m pip install 'PyPDF2'"
   ]
  },
  {
   "cell_type": "code",
   "execution_count": null,
   "metadata": {},
   "outputs": [],
   "source": [
    "from sepal_ui import sepalwidgets as sw"
   ]
  },
  {
   "cell_type": "code",
   "execution_count": null,
   "metadata": {},
   "outputs": [],
   "source": [
    "#create appBar \n",
    "ts_appBar = sw.AppBar('Time series')"
   ]
  },
  {
   "cell_type": "code",
   "execution_count": null,
   "metadata": {},
   "outputs": [],
   "source": [
    "#create footer \n",
    "ts_footer = sw.Footer()"
   ]
  },
  {
   "cell_type": "code",
   "execution_count": null,
   "metadata": {},
   "outputs": [],
   "source": [
    "#add the tiles \n",
    "%run 'table_ui.ipynb'\n",
    "%run 'viz_ui.ipynb'\n",
    "%run 'export_ui.ipynb'\n",
    "%run 'about_ui.ipynb'\n",
    "\n",
    "ts_content = [\n",
    "    file_tile,\n",
    "    col_tile,\n",
    "    tb_map_tile,\n",
    "    viz_input,\n",
    "    export_tile,\n",
    "    export_results,\n",
    "    ts_about,\n",
    "    ts_disclaimer\n",
    "]"
   ]
  },
  {
   "cell_type": "code",
   "execution_count": null,
   "metadata": {},
   "outputs": [],
   "source": [
    "#create a drawer \n",
    "item_pts = sw.DrawerItem('Import points', 'mdi-map-marker-check', card=\"file_widget\").display_tile(ts_content)\n",
    "item_viz = sw.DrawerItem('Visualize Points', 'mdi-earth', card=\"viz_widget\").display_tile(ts_content)\n",
    "item_export = sw.DrawerItem('Export selected data', 'mdi-export', card=\"export_widget\").display_tile(ts_content)\n",
    "item_about = sw.DrawerItem('About', 'mdi-help-circle', card=\"about_widget\").display_tile(ts_content)\n",
    "\n",
    "code_link = 'https://github.com/12rambau/accuracy-assessment'\n",
    "wiki_link = 'https://github.com/12rambau/accuracy-assessment/blob/master/README.md'\n",
    "issue = 'https://github.com/12rambau/accuracy-assessment/issues/new'\n",
    "\n",
    "ts_items = [\n",
    "    item_pts,\n",
    "    item_viz,\n",
    "    item_export,\n",
    "    item_about\n",
    "]\n",
    "\n",
    "ts_drawer = sw.NavDrawer(ts_items, code = code_link, wiki = wiki_link, issue = issue).display_drawer(ts_appBar.toggle_button)"
   ]
  },
  {
   "cell_type": "code",
   "execution_count": null,
   "metadata": {},
   "outputs": [],
   "source": [
    "#build the app \n",
    "ts_app = sw.App(\n",
    "    tiles=ts_content, \n",
    "    appBar=ts_appBar, \n",
    "    footer=ts_footer, \n",
    "    navDrawer=ts_drawer\n",
    ").show_tile('file_widget')"
   ]
  },
  {
   "cell_type": "code",
   "execution_count": null,
   "metadata": {},
   "outputs": [],
   "source": [
    "#display the app\n",
    "ts_app"
   ]
  }
 ],
 "metadata": {
  "kernelspec": {
   "display_name": "Python 3",
   "language": "python",
   "name": "python3"
  },
  "language_info": {
   "codemirror_mode": {
    "name": "ipython",
    "version": 3
   },
   "file_extension": ".py",
   "mimetype": "text/x-python",
   "name": "python",
   "nbconvert_exporter": "python",
   "pygments_lexer": "ipython3",
   "version": "3.6.9"
  }
 },
 "nbformat": 4,
 "nbformat_minor": 4
}
