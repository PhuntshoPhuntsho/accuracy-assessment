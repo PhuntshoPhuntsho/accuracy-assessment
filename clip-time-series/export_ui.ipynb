{
 "cells": [
  {
   "cell_type": "code",
   "execution_count": null,
   "metadata": {},
   "outputs": [],
   "source": [
    "import os\n",
    "from functools import partial\n",
    "\n",
    "from sepal_ui import sepalwidgets as sw\n",
    "from sepal_ui import mapping as sm\n",
    "from wand.image import Image as WImage\n",
    "import ipywidgets as w\n",
    "\n",
    "from utils import messages as ms\n",
    "import ipyvuetify as v\n",
    "from scripts import export"
   ]
  },
  {
   "cell_type": "code",
   "execution_count": null,
   "metadata": {},
   "outputs": [],
   "source": [
    "#mutable object \n",
    "class Export_io:\n",
    "    def __init__(self):\n",
    "        self.vue = None\n",
    "        \n",
    "export_io = Export_io()"
   ]
  },
  {
   "cell_type": "code",
   "execution_count": null,
   "metadata": {},
   "outputs": [],
   "source": [
    "#result tile \n",
    "title=\"Export results\"\n",
    "id_ = 'export_widget'\n",
    "\n",
    "export_results = sw.Tile(id_, title, inputs=[''])"
   ]
  },
  {
   "cell_type": "code",
   "execution_count": null,
   "metadata": {},
   "outputs": [],
   "source": [
    "#export data\n",
    "export_output = sw.Alert().add_msg(ms.EXPORT_INTRO)\n",
    "export_btn = sw.Btn(ms.EXPORT_BTN, icon='mdi-check')\n",
    "\n",
    "title = \"Export data\"\n",
    "\n",
    "export_txt = sw.Markdown(ms.EXPORT_TXT)\n",
    "\n",
    "export_tile = sw.Tile(\n",
    "    id_, \n",
    "    title, \n",
    "    btn=export_btn, \n",
    "    output=export_output,\n",
    "    inputs=[export_txt]\n",
    ")"
   ]
  },
  {
   "cell_type": "code",
   "execution_count": null,
   "metadata": {},
   "outputs": [],
   "source": [
    "#export data \n",
    "def start_process(widget, event, data, output, result):\n",
    "    \n",
    "    #toggle the loading button\n",
    "    widget.toggle_loading()\n",
    "     \n",
    "    #load the input\n",
    "    file = getattr(tb_io, 'file')\n",
    "    pts = getattr(tb_io, 'pts')\n",
    "    bands = getattr(viz_io, 'bands')\n",
    "    sources = getattr(viz_io, 'sources')\n",
    "    \n",
    "    #check only validation     \n",
    "    if not output.check_input(file, ms.MISSING_IN): return widget.toggle_loading()\n",
    "    if not output.check_input(bands, ms.MISSING_IN): return widget.toggle_loading()\n",
    "    if not output.check_input(sources, ms.MISSING_IN): return widget.toggle_loading()\n",
    "    \n",
    "    #start the exporting process \n",
    "    pdf_file = export.run(file, pts, bands, sources, output)\n",
    "    \n",
    "    #add a download button \n",
    "    dwn = sw.DownloadBtn('PDF time series', path=pdf_file)\n",
    "    \n",
    "    #add a preview of the first page\n",
    "    preview = pdf_file.replace('.pdf', '_preview.png')\n",
    "    WImage(filename=pdf_file+'[0]').save(filename=preview)\n",
    "    img_widget = w.Image(value=open(preview, \"rb\").read())\n",
    "\n",
    "    result.set_content([dwn, img_widget])\n",
    "    \n",
    "    #toggle the loading button\n",
    "    widget.toggle_loading()\n",
    "    \n",
    "    return \n",
    "\n",
    "export_btn.on_event('click', partial(\n",
    "    start_process,\n",
    "    output=export_output,\n",
    "    result = export_results\n",
    "))\n",
    "    "
   ]
  },
  {
   "cell_type": "code",
   "execution_count": null,
   "metadata": {},
   "outputs": [],
   "source": [
    "export_tile"
   ]
  },
  {
   "cell_type": "code",
   "execution_count": null,
   "metadata": {},
   "outputs": [],
   "source": [
    "export_results"
   ]
  }
 ],
 "metadata": {
  "kernelspec": {
   "display_name": "Python 3",
   "language": "python",
   "name": "python3"
  },
  "language_info": {
   "codemirror_mode": {
    "name": "ipython",
    "version": 3
   },
   "file_extension": ".py",
   "mimetype": "text/x-python",
   "name": "python",
   "nbconvert_exporter": "python",
   "pygments_lexer": "ipython3",
   "version": "3.6.9"
  }
 },
 "nbformat": 4,
 "nbformat_minor": 4
}
