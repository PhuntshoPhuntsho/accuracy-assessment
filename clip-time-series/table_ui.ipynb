{
 "cells": [
  {
   "cell_type": "code",
   "execution_count": null,
   "metadata": {},
   "outputs": [],
   "source": [
    "from functools import partial\n",
    "from pathlib import Path\n",
    "\n",
    "import pandas as pd\n",
    "import geopandas as gdp\n",
    "from sepal_ui import sepalwidgets as sw\n",
    "from sepal_ui import mapping as sm\n",
    "import ipyvuetify as v\n",
    "\n",
    "from utils import messages as ms\n",
    "from utils import parameters as pm\n",
    "from scripts import table as run"
   ]
  },
  {
   "cell_type": "code",
   "execution_count": null,
   "metadata": {},
   "outputs": [],
   "source": [
    "#input and output as mutable objects \n",
    "class Table_io:\n",
    "    def __init__(self):\n",
    "        #input \n",
    "        self.file = None\n",
    "        self.lng = None\n",
    "        self.lat = None\n",
    "        self.id = None\n",
    "        \n",
    "        #output\n",
    "        self.pts = None\n",
    "        \n",
    "tb_io = Table_io()"
   ]
  },
  {
   "cell_type": "code",
   "execution_count": null,
   "metadata": {},
   "outputs": [],
   "source": [
    "#output to display messages\n",
    "file_output = sw.Alert().add_msg(ms.TABLE_INTRO)\n",
    "\n",
    "#btn \n",
    "file_btn = sw.Btn(ms.TABLE_BTN, icon='mdi-check')\n",
    "\n",
    "#create the inputs\n",
    "file_select = sw.FileInput(['.csv', '.txt'])\n",
    "file_select.bind_io(file_output, tb_io, 'file')\n",
    "\n",
    "#create a file selector \n",
    "id_ = 'file_widget'\n",
    "title = \"Select File\"\n",
    "\n",
    "file_tile = sw.Tile(\n",
    "    id_,\n",
    "    title,\n",
    "    btn=file_btn, \n",
    "    inputs=[file_select],\n",
    "    output=file_output\n",
    ")\n"
   ]
  },
  {
   "cell_type": "code",
   "execution_count": null,
   "metadata": {},
   "outputs": [],
   "source": [
    "#tile to select columns \n",
    "col_output = sw.Alert().add_msg(ms.COL_INTRO)\n",
    "\n",
    "#btn \n",
    "col_btn = sw.Btn(ms.COL_BTN, icon='mdi-check')\n",
    "\n",
    "#create the inputs\n",
    "col_lng = v.Select(items=[], label=ms.COL_LNG, v_model=None)\n",
    "col_lat = v.Select(items=[], label=ms.COL_LAT, v_model=None)\n",
    "col_id = v.Select(items=[], label=ms.COL_ID, v_model=None)\n",
    "\n",
    "#bind the inputs \n",
    "col_output.bind(col_lng, tb_io, 'lng')\n",
    "col_output.bind(col_lat, tb_io, 'lat')\n",
    "col_output.bind(col_id, tb_io, 'id')\n",
    "\n",
    "#create a file selector \n",
    "id_ = 'file_widget'\n",
    "title = \"Select Columns\"\n",
    "\n",
    "col_tile = sw.Tile(\n",
    "    id_,\n",
    "    title,\n",
    "    btn=col_btn, \n",
    "    inputs=[col_lng, col_lat, col_id],\n",
    "    output=col_output\n",
    ")"
   ]
  },
  {
   "cell_type": "code",
   "execution_count": null,
   "metadata": {},
   "outputs": [],
   "source": [
    "#tiles to display the points on a map\n",
    "tb_map = sm.SepalMap(['CartoDB.Positron'])\n",
    "title = 'Display points'\n",
    "tb_map_tile = sw.Tile(\n",
    "    id_,\n",
    "    title,\n",
    "    inputs=[tb_map]\n",
    ")"
   ]
  },
  {
   "cell_type": "code",
   "execution_count": null,
   "metadata": {},
   "outputs": [],
   "source": [
    "#function to actualise the values of the select column tile \n",
    "def update_col(cols, values):\n",
    "    for col in cols:\n",
    "        col.items = values\n",
    "        col.v_model=None"
   ]
  },
  {
   "cell_type": "code",
   "execution_count": null,
   "metadata": {},
   "outputs": [],
   "source": [
    "#validate the points selection \n",
    "def load_file(widget, event, data, output, cols):\n",
    "    \n",
    "    #toggle the loading button\n",
    "    widget.toggle_loading()\n",
    "    \n",
    "    #load the inputs \n",
    "    file = getattr(tb_io, 'file')\n",
    "    \n",
    "    #check input\n",
    "    if not output.check_input(file, ms.NOT_A_FILE): return widget.toggle_loading()\n",
    "    \n",
    "    #check the file\n",
    "    error = run.isConform(file)\n",
    "    if error:\n",
    "        output.add_live_msg(error, 'error')\n",
    "        return widget.toggle_loading()\n",
    "    \n",
    "    #read the columns names\n",
    "    sep = ',' if Path(file).suffix == '.csv' else ' '\n",
    "    df = pd.read_csv(file, sep=sep)\n",
    "    \n",
    "    update_col(cols, df.columns.tolist())\n",
    "    \n",
    "    #write the values in the output\n",
    "    output.add_msg(ms.READ_COLUMNS.format(', '.join(df.columns)), 'success')\n",
    "    \n",
    "    #toggle the loading button \n",
    "    widget.toggle_loading()\n",
    "    \n",
    "    return \n",
    "\n",
    "file_btn.on_event('click', partial(\n",
    "    load_file,\n",
    "    output = file_output,\n",
    "    cols = [col_lng, col_lat, col_id]\n",
    "))"
   ]
  },
  {
   "cell_type": "code",
   "execution_count": null,
   "metadata": {},
   "outputs": [],
   "source": [
    "def load_columns(widget, event, data, output, m):\n",
    "    \n",
    "    #toggle the loading button \n",
    "    widget.toggle_loading()\n",
    "    \n",
    "    #define variable \n",
    "    file = getattr(tb_io, 'file')\n",
    "    lat = getattr(tb_io, 'lat')\n",
    "    lng = getattr(tb_io, 'lng')\n",
    "    id_ = getattr(tb_io, 'id')\n",
    "    \n",
    "    \n",
    "    #check the variables \n",
    "    if not output.check_input(lat, ms.MISSING_INPUT): return widget.toggle_input()\n",
    "    if not output.check_input(lng, ms.MISSING_INPUT): return widget.toggle_input()\n",
    "    if not output.check_input(id_, ms.MISSING_INPUT): return widget.toggle_input()    \n",
    "    \n",
    "    #verify that they are all unique\n",
    "    if len(set([lat, lng, id_])) != len([lat, lng, id_]): \n",
    "        output.add_msg(ms.REPEATED_INPUT, 'error')\n",
    "        return widget.toggle_loading()\n",
    "    \n",
    "    #create the pts geodataframe\n",
    "    sep = ',' if Path(file).suffix == '.csv' else ' '\n",
    "    df = pd.read_csv(file, sep=sep)\n",
    "    df = df.filter(items=[lat, lng, id_])\n",
    "    df = df.rename(columns={lat: 'lat', lng: 'lng', id_: 'id'})\n",
    "    gdf = gdp.GeoDataFrame(df, geometry=gdp.points_from_xy(df.lng, df.lat), crs='EPSG:4326')\n",
    "    \n",
    "    #load the map\n",
    "    run.setMap(gdf, m) \n",
    "    \n",
    "    #set the dataframe in output \n",
    "    setattr(tb_io, 'pts', gdf)\n",
    "    \n",
    "    output.add_msg(ms.VALID_COLUMNS, 'success')\n",
    "    \n",
    "    #toggle the loading button \n",
    "    widget.toggle_loading()\n",
    "    \n",
    "    return \n",
    "\n",
    "col_btn.on_event('click', partial(\n",
    "    load_columns,\n",
    "    output = col_output,\n",
    "    m = tb_map\n",
    "))"
   ]
  },
  {
   "cell_type": "code",
   "execution_count": null,
   "metadata": {},
   "outputs": [],
   "source": [
    "file_tile"
   ]
  },
  {
   "cell_type": "code",
   "execution_count": null,
   "metadata": {},
   "outputs": [],
   "source": [
    "col_tile"
   ]
  },
  {
   "cell_type": "code",
   "execution_count": null,
   "metadata": {},
   "outputs": [],
   "source": [
    "tb_map_tile"
   ]
  }
 ],
 "metadata": {
  "kernelspec": {
   "display_name": "Python 3",
   "language": "python",
   "name": "python3"
  },
  "language_info": {
   "codemirror_mode": {
    "name": "ipython",
    "version": 3
   },
   "file_extension": ".py",
   "mimetype": "text/x-python",
   "name": "python",
   "nbconvert_exporter": "python",
   "pygments_lexer": "ipython3",
   "version": "3.6.9"
  }
 },
 "nbformat": 4,
 "nbformat_minor": 4
}
